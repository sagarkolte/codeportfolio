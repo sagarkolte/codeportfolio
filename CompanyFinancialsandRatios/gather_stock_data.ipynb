{
 "cells": [
  {
   "cell_type": "code",
   "execution_count": null,
   "metadata": {},
   "outputs": [],
   "source": [
    "%load_ext autoreload\n",
    "%autoreload 2\n",
    "from bs4 import BeautifulSoup\n",
    "import requests\n",
    "import pandas as pd\n",
    "import numpy as np\n",
    "from googlesearch import search\n",
    "import re\n",
    "from lxml import etree\n",
    "from selenium import webdriver\n",
    "from selenium.webdriver.common.keys import Keys\n",
    "from selenium.webdriver.chrome.options import Options\n",
    "from webdriver_manager.chrome import ChromeDriverManager\n",
    "chrome_options = Options()\n",
    "chrome_options.add_argument(\"--window-size=1024x768\")\n",
    "chrome_options.add_argument(\"--headless\")\n",
    "#driver = webdriver.Chrome(chrome_options=chrome_options)\n",
    "driver = webdriver.Chrome(ChromeDriverManager().install())\n",
    "import fundamental_analysis_toolkit as fatk"
   ]
  },
  {
   "cell_type": "code",
   "execution_count": 6,
   "metadata": {},
   "outputs": [],
   "source": [
    "import config\n",
    "import time\n",
    "def get_url(name,site,urlkey):\n",
    "    try:\n",
    "        query = name + ' ' + site\n",
    "        url_list = search(query, tld=\"co.in\", num=10, stop=10, pause=2)\n",
    "        #print(list(url_list))\n",
    "        url_list = [x for x in list(url_list) if re.search(urlkey, x)]\n",
    "        req = driver.get(url_list[0])\n",
    "        driver.set_page_load_timeout(20)\n",
    "        driver.maximize_window()\n",
    "        return url_list[0],driver\n",
    "    except Exception as e:\n",
    "        print(e)\n",
    "        return 'nan'\n",
    "    \n",
    "def get_attributedata(driver,xpath,regex):\n",
    "    try:\n",
    "        attribute_data = (driver.find_element_by_xpath(xpath).text)\n",
    "        attribute_data = re.findall(regex, attribute_data)\n",
    "        try:\n",
    "            attribute_data = [float(data.strip().replace(',','')) for data in attribute_data]\n",
    "            return attribute_data\n",
    "        except Exception as e:\n",
    "            print(e)\n",
    "            return attribute_data\n",
    "        \n",
    "    except Exception as e:\n",
    "        print(e)\n",
    "        return '-'\n",
    "    \n",
    "def get_data(name,excol,cols):\n",
    "    try:\n",
    "        url_data,driver_data = get_url(name, \n",
    "                config.keyworddict[excol][0],\n",
    "                config.keyworddict[excol][1])\n",
    "\n",
    "        data = {}\n",
    "        for i in range(len(cols)):\n",
    "            try:\n",
    "                data[cols[i]]=get_attributedata(driver_data,\n",
    "                                                     config.xpathdict[cols[i]],\n",
    "                                                     config.regexdict[cols[i]])\n",
    "            except:\n",
    "                continue\n",
    "            data['Company'] = [name]*5\n",
    "            data = pd.DataFrame(data)\n",
    "        return data\n",
    "    except:\n",
    "        data = pd.DataFrame({k:'-' for k in cols+['Company']},index=[0])\n",
    "        return data\n",
    "    \n",
    "def get_alldata(name):\n",
    "    time.sleep(30)\n",
    "    print(\"getting data for {}\".format(name))\n",
    "    financialratios = get_data(name,'EarningsPerShare',config.columns[0:6])\n",
    "    consolidatedratios = get_data(name,'InterestCoverageRatio',[config.columns[6]])\n",
    "    balancesheet = get_data(name,'Assets',config.columns[7:])\n",
    "    df_final = pd.concat([financialratios,consolidatedratios,balancesheet],axis=1)\n",
    "    return df_final "
   ]
  },
  {
   "cell_type": "code",
   "execution_count": 3,
   "metadata": {},
   "outputs": [],
   "source": [
    "securities = pd.read_csv('Equity.csv')"
   ]
  },
  {
   "cell_type": "code",
   "execution_count": 12,
   "metadata": {},
   "outputs": [],
   "source": [
    "def daily_run(n):    \n",
    "    seclist = list(securities['Security Name'])[n:n+10]\n",
    "    df_list = [get_alldata(sec) for sec in seclist]\n",
    "    df_list_new = [ df.loc[:,~df.columns.duplicated()] for df in df_list]\n",
    "    df_final = pd.concat(df_list_new)\n",
    "    df_final.to_csv('fundamentals_data_{}_{}.csv'.format(n,n+15))\n",
    "    return None\n",
    "\n",
    "def consolidate():\n",
    "    import glob\n",
    "    jpgFilenamesList = glob.glob('fundamentals_data*.csv')\n",
    "    df_list = [pd.read_csv(file) for file in jpgFilenamesList]\n",
    "    df_final = pd.concat(df_list)\n",
    "    print(\"number of rows before dropping empty earnings per share and interest coverage ratio is {}\".format(len(df_final)))\n",
    "    df_final = df_final.dropna(subset=['EarningsPerShare','InterestCoverageRatio'],how='any')\n",
    "    print(\"number of rows after dropping empty earnings per share and interest coverage ratio is {}\".format(len(df_final))) \n",
    "    df_final.to_csv('fundamentals_and_ratios.csv',index=False)"
   ]
  },
  {
   "cell_type": "code",
   "execution_count": null,
   "metadata": {},
   "outputs": [],
   "source": [
    "daily_run(757)\n",
    "consolidate()"
   ]
  },
  {
   "cell_type": "code",
   "execution_count": 41,
   "metadata": {},
   "outputs": [
    {
     "name": "stdout",
     "output_type": "stream",
     "text": [
      "number of rows before dropping empty earnings per share and interest coverage ratio is 27030\n",
      "number of rows after dropping empty earnings per share and interest coverage ratio is 9979\n"
     ]
    }
   ],
   "source": [
    "consolidate()"
   ]
  },
  {
   "cell_type": "code",
   "execution_count": null,
   "metadata": {},
   "outputs": [],
   "source": []
  }
 ],
 "metadata": {
  "kernelspec": {
   "display_name": "Python 3",
   "language": "python",
   "name": "python3"
  },
  "language_info": {
   "codemirror_mode": {
    "name": "ipython",
    "version": 3
   },
   "file_extension": ".py",
   "mimetype": "text/x-python",
   "name": "python",
   "nbconvert_exporter": "python",
   "pygments_lexer": "ipython3",
   "version": "3.8.5"
  }
 },
 "nbformat": 4,
 "nbformat_minor": 4
}
