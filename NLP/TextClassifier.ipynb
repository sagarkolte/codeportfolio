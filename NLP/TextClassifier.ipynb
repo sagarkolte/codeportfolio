{
 "cells": [
  {
   "cell_type": "code",
   "execution_count": 6,
   "metadata": {},
   "outputs": [],
   "source": [
    "import pandas as pd\n",
    "import numpy as np\n",
    "from keras.models import Sequential\n",
    "from keras.layers import Dense\n",
    "from keras.wrappers.scikit_learn import KerasClassifier\n",
    "from sklearn.model_selection import cross_val_score\n",
    "from sklearn.preprocessing import LabelEncoder\n",
    "from sklearn.model_selection import StratifiedKFold\n",
    "from sklearn.preprocessing import StandardScaler\n",
    "from sklearn.pipeline import Pipeline\n",
    "import spacy\n",
    "nlp = spacy.load(\"en_core_web_sm\")"
   ]
  },
  {
   "cell_type": "code",
   "execution_count": 7,
   "metadata": {},
   "outputs": [],
   "source": [
    "def get_vector(text):\n",
    "    doc = nlp(text)\n",
    "    vec = np.array(doc.vector)\n",
    "    return vec"
   ]
  },
  {
   "cell_type": "code",
   "execution_count": 8,
   "metadata": {},
   "outputs": [],
   "source": [
    "dataframe = pd.read_csv(\"resources/bsnewsfilterTrain.csv\", header=None)\n",
    "dataframe = dataframe[1:]\n",
    "dataframe['Title_vec'] = dataframe.apply(lambda row: get_vector(row[0]),axis=1)\n",
    "dataframe = dataframe.drop(0,axis=1)\n",
    "dataset = dataframe.values\n"
   ]
  },
  {
   "cell_type": "code",
   "execution_count": 9,
   "metadata": {},
   "outputs": [],
   "source": [
    "X = list(dataframe['Title_vec'])\n",
    "X = pd.DataFrame(X)\n",
    "X = X.values[:,0:].astype(float)\n",
    "Y = dataset[:,0:1].astype(float)"
   ]
  },
  {
   "cell_type": "code",
   "execution_count": null,
   "metadata": {},
   "outputs": [],
   "source": [
    "# baseline model\n",
    "def create_baseline():\n",
    "    # create model\n",
    "    model = Sequential()\n",
    "    model.add(Dense(48, input_dim=96, activation='relu'))\n",
    "    model.add(Dense(10, input_dim=48, activation='relu'))\n",
    "    #model.add(Dense(50, input_dim=50, activation='relu'))\n",
    "    model.add(Dense(1, activation='sigmoid'))\n",
    "    # Compile model\n",
    "    model.compile(loss='binary_crossentropy', optimizer='adam', metrics=['accuracy'])\n",
    "    return model\n",
    "# evaluate model with standardized dataset\n",
    "estimator = KerasClassifier(build_fn=create_baseline, epochs=50, batch_size=128, verbose=0)\n",
    "kfold = StratifiedKFold(n_splits=9, shuffle=True)\n",
    "results = cross_val_score(estimator, X, Y, cv=kfold)\n",
    "print(\"Baseline: %.2f%% (%.2f%%)\" % (results.mean()*100, results.std()*100))"
   ]
  },
  {
   "cell_type": "code",
   "execution_count": 13,
   "metadata": {},
   "outputs": [
    {
     "name": "stdout",
     "output_type": "stream",
     "text": [
      "Epoch 1/50\n",
      "5/5 [==============================] - 0s 2ms/step - loss: 0.7546 - accuracy: 0.5303\n",
      "Epoch 2/50\n",
      "5/5 [==============================] - 0s 3ms/step - loss: 0.6724 - accuracy: 0.5825\n",
      "Epoch 3/50\n",
      "5/5 [==============================] - 0s 3ms/step - loss: 0.6618 - accuracy: 0.6263\n",
      "Epoch 4/50\n",
      "5/5 [==============================] - 0s 3ms/step - loss: 0.6505 - accuracy: 0.6549\n",
      "Epoch 5/50\n",
      "5/5 [==============================] - 0s 2ms/step - loss: 0.6339 - accuracy: 0.6599\n",
      "Epoch 6/50\n",
      "5/5 [==============================] - 0s 2ms/step - loss: 0.6176 - accuracy: 0.6599\n",
      "Epoch 7/50\n",
      "5/5 [==============================] - 0s 3ms/step - loss: 0.6037 - accuracy: 0.6515\n",
      "Epoch 8/50\n",
      "5/5 [==============================] - 0s 4ms/step - loss: 0.5935 - accuracy: 0.6549\n",
      "Epoch 9/50\n",
      "5/5 [==============================] - 0s 2ms/step - loss: 0.5826 - accuracy: 0.6717\n",
      "Epoch 10/50\n",
      "5/5 [==============================] - 0s 3ms/step - loss: 0.5713 - accuracy: 0.6886\n",
      "Epoch 11/50\n",
      "5/5 [==============================] - 0s 4ms/step - loss: 0.5607 - accuracy: 0.6970\n",
      "Epoch 12/50\n",
      "5/5 [==============================] - 0s 3ms/step - loss: 0.5508 - accuracy: 0.7071\n",
      "Epoch 13/50\n",
      "5/5 [==============================] - 0s 2ms/step - loss: 0.5422 - accuracy: 0.7172\n",
      "Epoch 14/50\n",
      "5/5 [==============================] - 0s 6ms/step - loss: 0.5308 - accuracy: 0.7306\n",
      "Epoch 15/50\n",
      "5/5 [==============================] - 0s 3ms/step - loss: 0.5224 - accuracy: 0.7475\n",
      "Epoch 16/50\n",
      "5/5 [==============================] - 0s 3ms/step - loss: 0.5130 - accuracy: 0.7492\n",
      "Epoch 17/50\n",
      "5/5 [==============================] - 0s 3ms/step - loss: 0.5059 - accuracy: 0.7542\n",
      "Epoch 18/50\n",
      "5/5 [==============================] - 0s 3ms/step - loss: 0.4957 - accuracy: 0.7677\n",
      "Epoch 19/50\n",
      "5/5 [==============================] - 0s 3ms/step - loss: 0.4888 - accuracy: 0.7828\n",
      "Epoch 20/50\n",
      "5/5 [==============================] - 0s 4ms/step - loss: 0.4805 - accuracy: 0.7828\n",
      "Epoch 21/50\n",
      "5/5 [==============================] - 0s 5ms/step - loss: 0.4747 - accuracy: 0.7811\n",
      "Epoch 22/50\n",
      "5/5 [==============================] - 0s 3ms/step - loss: 0.4668 - accuracy: 0.7912\n",
      "Epoch 23/50\n",
      "5/5 [==============================] - 0s 2ms/step - loss: 0.4599 - accuracy: 0.8030\n",
      "Epoch 24/50\n",
      "5/5 [==============================] - 0s 3ms/step - loss: 0.4557 - accuracy: 0.8013\n",
      "Epoch 25/50\n",
      "5/5 [==============================] - 0s 3ms/step - loss: 0.4472 - accuracy: 0.8114\n",
      "Epoch 26/50\n",
      "5/5 [==============================] - 0s 3ms/step - loss: 0.4428 - accuracy: 0.8013\n",
      "Epoch 27/50\n",
      "5/5 [==============================] - 0s 3ms/step - loss: 0.4367 - accuracy: 0.8232\n",
      "Epoch 28/50\n",
      "5/5 [==============================] - 0s 5ms/step - loss: 0.4316 - accuracy: 0.8098\n",
      "Epoch 29/50\n",
      "5/5 [==============================] - 0s 3ms/step - loss: 0.4252 - accuracy: 0.8249\n",
      "Epoch 30/50\n",
      "5/5 [==============================] - 0s 3ms/step - loss: 0.4202 - accuracy: 0.8182\n",
      "Epoch 31/50\n",
      "5/5 [==============================] - 0s 2ms/step - loss: 0.4133 - accuracy: 0.8283\n",
      "Epoch 32/50\n",
      "5/5 [==============================] - 0s 2ms/step - loss: 0.4077 - accuracy: 0.8384\n",
      "Epoch 33/50\n",
      "5/5 [==============================] - 0s 3ms/step - loss: 0.4033 - accuracy: 0.8300\n",
      "Epoch 34/50\n",
      "5/5 [==============================] - 0s 3ms/step - loss: 0.3958 - accuracy: 0.8418\n",
      "Epoch 35/50\n",
      "5/5 [==============================] - 0s 3ms/step - loss: 0.3911 - accuracy: 0.8468\n",
      "Epoch 36/50\n",
      "5/5 [==============================] - 0s 2ms/step - loss: 0.3847 - accuracy: 0.8468\n",
      "Epoch 37/50\n",
      "5/5 [==============================] - 0s 4ms/step - loss: 0.3804 - accuracy: 0.8519\n",
      "Epoch 38/50\n",
      "5/5 [==============================] - 0s 3ms/step - loss: 0.3732 - accuracy: 0.8519\n",
      "Epoch 39/50\n",
      "5/5 [==============================] - 0s 3ms/step - loss: 0.3699 - accuracy: 0.8552\n",
      "Epoch 40/50\n",
      "5/5 [==============================] - ETA: 0s - loss: 0.3767 - accuracy: 0.84 - 0s 3ms/step - loss: 0.3654 - accuracy: 0.8552\n",
      "Epoch 41/50\n",
      "5/5 [==============================] - 0s 4ms/step - loss: 0.3599 - accuracy: 0.8603\n",
      "Epoch 42/50\n",
      "5/5 [==============================] - 0s 8ms/step - loss: 0.3524 - accuracy: 0.8653\n",
      "Epoch 43/50\n",
      "5/5 [==============================] - 0s 3ms/step - loss: 0.3492 - accuracy: 0.8586\n",
      "Epoch 44/50\n",
      "5/5 [==============================] - 0s 3ms/step - loss: 0.3434 - accuracy: 0.8754\n",
      "Epoch 45/50\n",
      "5/5 [==============================] - 0s 4ms/step - loss: 0.3395 - accuracy: 0.8771\n",
      "Epoch 46/50\n",
      "5/5 [==============================] - 0s 3ms/step - loss: 0.3327 - accuracy: 0.8704\n",
      "Epoch 47/50\n",
      "5/5 [==============================] - 0s 3ms/step - loss: 0.3330 - accuracy: 0.8805\n",
      "Epoch 48/50\n",
      "5/5 [==============================] - 0s 3ms/step - loss: 0.3241 - accuracy: 0.8788\n",
      "Epoch 49/50\n",
      "5/5 [==============================] - 0s 3ms/step - loss: 0.3152 - accuracy: 0.8889\n",
      "Epoch 50/50\n",
      "5/5 [==============================] - 0s 4ms/step - loss: 0.3127 - accuracy: 0.8889\n"
     ]
    },
    {
     "data": {
      "text/plain": [
       "<tensorflow.python.keras.callbacks.History at 0x7f9fe3f6f3c8>"
      ]
     },
     "execution_count": 13,
     "metadata": {},
     "output_type": "execute_result"
    }
   ],
   "source": [
    "bsfilterModel = create_baseline()\n",
    "bsfilterModel.fit(X,Y,batch_size=128, epochs=50)"
   ]
  },
  {
   "cell_type": "code",
   "execution_count": 14,
   "metadata": {},
   "outputs": [],
   "source": [
    "text = 'George Floyd murder: Apple CEO Tim Cook commits USD 100 million to promote racial equality - The New Indian Express'\n",
    "def bsfilter(model,text):\n",
    "    vec = get_vector(text)\n",
    "    X = pd.DataFrame(vec)\n",
    "    X = X.values[:,0:].astype(float)\n",
    "    prediction = model.predict(X.T)[0][0]\n",
    "    return prediction\n"
   ]
  },
  {
   "cell_type": "code",
   "execution_count": 15,
   "metadata": {},
   "outputs": [
    {
     "data": {
      "text/plain": [
       "0.89450395"
      ]
     },
     "execution_count": 15,
     "metadata": {},
     "output_type": "execute_result"
    }
   ],
   "source": [
    "bsfilter(bsfilterModel,text)"
   ]
  },
  {
   "cell_type": "code",
   "execution_count": 17,
   "metadata": {},
   "outputs": [],
   "source": [
    "out = pd.read_csv('out/out 2.csv')\n",
    "out['bsFilter'] = out.apply(lambda row:bsfilter(bsfilterModel,row['Title']),axis=1)\n",
    "out = out[out['bsFilter']>=0.2]\n",
    "#out.to_csv('out/out.csv')\n",
    "out[out['Event_Text']!='0'][['Event_Text', 'PubDate','HNWI']].to_csv('out/time_line_filtered.csv')"
   ]
  }
 ],
 "metadata": {
  "kernelspec": {
   "display_name": "Python 3",
   "language": "python",
   "name": "python3"
  },
  "language_info": {
   "codemirror_mode": {
    "name": "ipython",
    "version": 3
   },
   "file_extension": ".py",
   "mimetype": "text/x-python",
   "name": "python",
   "nbconvert_exporter": "python",
   "pygments_lexer": "ipython3",
   "version": "3.8.5"
  }
 },
 "nbformat": 4,
 "nbformat_minor": 4
}
