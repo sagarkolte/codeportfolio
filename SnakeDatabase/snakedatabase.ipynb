{
 "cells": [
  {
   "cell_type": "code",
   "execution_count": 1,
   "metadata": {},
   "outputs": [
    {
     "name": "stderr",
     "output_type": "stream",
     "text": [
      "[WDM] - Current google-chrome version is 89.0.4389\n",
      "[WDM] - Get LATEST driver version for 89.0.4389\n",
      "[WDM] - There is no [mac64] chromedriver for browser 89.0.4389 in cache\n",
      "[WDM] - Get LATEST driver version for 89.0.4389\n"
     ]
    },
    {
     "name": "stdout",
     "output_type": "stream",
     "text": [
      " \n"
     ]
    },
    {
     "name": "stderr",
     "output_type": "stream",
     "text": [
      "[WDM] - Trying to download new driver from http://chromedriver.storage.googleapis.com/89.0.4389.23/chromedriver_mac64.zip\n",
      "[WDM] - Driver has been saved in cache [/Users/sagarkolte/.wdm/drivers/chromedriver/mac64/89.0.4389.23]\n"
     ]
    }
   ],
   "source": [
    "import wikipedia as wk\n",
    "import spacy\n",
    "import pandas as pd\n",
    "import numpy as np\n",
    "from googlesearch import search\n",
    "import re\n",
    "from string import ascii_letters\n",
    "import snaketoolkit as stk\n",
    "%load_ext autoreload\n",
    "%autoreload 2"
   ]
  },
  {
   "cell_type": "code",
   "execution_count": 2,
   "metadata": {},
   "outputs": [],
   "source": [
    "import json"
   ]
  },
  {
   "cell_type": "code",
   "execution_count": 11,
   "metadata": {},
   "outputs": [],
   "source": [
    "snake_name = \"Corallus\""
   ]
  },
  {
   "cell_type": "code",
   "execution_count": 12,
   "metadata": {},
   "outputs": [
    {
     "data": {
      "text/plain": [
       "{'Length': 'Native to portions of central-sub-Saharan and South Africa, this is an impressive constrictor that can attain a body length of just over 6 m.',\n",
       " 'venom_type': \"These snakes lack Duvernoy's glands or venom glands, as well as any dentition adapted for delivery of oral secretions (this does not obviate the presence of ...\",\n",
       " 'distribution': 'Distribution and habitat\\nSpecies in the genus Corallus are found in Central America, South America and the West Indies. In Central America they occur in Honduras, eastern Guatemala through Nicaragua, Costa Rica and Panama.',\n",
       " 'family': 'Boas',\n",
       " 'diet': 'grenadensis) and species occurring on the mainland: juvenile and subadult boas from the West Indies prey almost entirely on anoles, whereas on the mainland (with the notable exceptions of C. batesii and C. caninus), those age classes prey largely on birds and bats. Four species (C.',\n",
       " 'genus': 'Corallus, the neotropical tree boas, are a genus of boas found in Central America, South America and the West Indies.\\n...\\nCorallus.',\n",
       " 'venom yield': 'Cited by 41',\n",
       " 'LD50': 'biochem-molbio.imedpub.com › determination-of-letha...'}"
      ]
     },
     "execution_count": 12,
     "metadata": {},
     "output_type": "execute_result"
    }
   ],
   "source": [
    "{\"Length\":stk.ask_google(\"length of the \" + snake_name),\n",
    " \"venom_type\":stk.ask_google(\"venom of the \"+snake_name),\n",
    "\"distribution\":stk.ask_google(\"distribution of the \"+snake_name),\n",
    "\"family\":stk.ask_google(snake_name+\" family\"),\n",
    "\"diet\":stk.ask_google(\"diet of the \"+snake_name),\n",
    "\"genus\":stk.ask_google(\"genus of the \"+snake_name),\n",
    "\"venom yield\":stk.ask_google(\"venom yield of the \"+snake_name),\n",
    "\"LD50\":stk.ask_google(\"LD 50 value of the \"+snake_name)}"
   ]
  },
  {
   "cell_type": "code",
   "execution_count": null,
   "metadata": {},
   "outputs": [],
   "source": []
  }
 ],
 "metadata": {
  "kernelspec": {
   "display_name": "Python 3",
   "language": "python",
   "name": "python3"
  },
  "language_info": {
   "codemirror_mode": {
    "name": "ipython",
    "version": 3
   },
   "file_extension": ".py",
   "mimetype": "text/x-python",
   "name": "python",
   "nbconvert_exporter": "python",
   "pygments_lexer": "ipython3",
   "version": "3.8.5"
  }
 },
 "nbformat": 4,
 "nbformat_minor": 4
}
